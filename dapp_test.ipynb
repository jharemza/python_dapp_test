{
 "cells": [
  {
   "cell_type": "code",
   "execution_count": 1,
   "id": "molecular-roommate",
   "metadata": {},
   "outputs": [],
   "source": [
    "from web3 import Web3\n",
    "infura_url = \"https://mainnet.infura.io/v3/595e7fb8bbf04548ab0e847a61d333da\"\n",
    "web3 = Web3(Web3.HTTPProvider(infura_url))"
   ]
  },
  {
   "cell_type": "code",
   "execution_count": 3,
   "id": "higher-county",
   "metadata": {},
   "outputs": [
    {
     "data": {
      "text/plain": [
       "True"
      ]
     },
     "execution_count": 3,
     "metadata": {},
     "output_type": "execute_result"
    }
   ],
   "source": [
    "web3.isConnected()"
   ]
  },
  {
   "cell_type": "code",
   "execution_count": 6,
   "id": "incredible-photographer",
   "metadata": {},
   "outputs": [
    {
     "data": {
      "text/plain": [
       "11674787"
      ]
     },
     "execution_count": 6,
     "metadata": {},
     "output_type": "execute_result"
    }
   ],
   "source": [
    "web3.eth.blockNumber"
   ]
  },
  {
   "cell_type": "code",
   "execution_count": 9,
   "id": "phantom-franchise",
   "metadata": {},
   "outputs": [],
   "source": [
    "balance = web3.eth.getBalance(\"0xa1CFBA7483FAA5372a2FCdD777046ED4b95db966\")"
   ]
  },
  {
   "cell_type": "code",
   "execution_count": 10,
   "id": "quality-orleans",
   "metadata": {},
   "outputs": [
    {
     "data": {
      "text/plain": [
       "0"
      ]
     },
     "execution_count": 10,
     "metadata": {},
     "output_type": "execute_result"
    }
   ],
   "source": [
    "balance"
   ]
  },
  {
   "cell_type": "code",
   "execution_count": null,
   "id": "equivalent-spring",
   "metadata": {},
   "outputs": [],
   "source": []
  }
 ],
 "metadata": {
  "kernelspec": {
   "display_name": "dapp_test",
   "language": "python",
   "name": "dapp_test"
  },
  "language_info": {
   "codemirror_mode": {
    "name": "ipython",
    "version": 3
   },
   "file_extension": ".py",
   "mimetype": "text/x-python",
   "name": "python",
   "nbconvert_exporter": "python",
   "pygments_lexer": "ipython3",
   "version": "3.9.1"
  }
 },
 "nbformat": 4,
 "nbformat_minor": 5
}
